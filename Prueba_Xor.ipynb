{
  "nbformat": 4,
  "nbformat_minor": 0,
  "metadata": {
    "colab": {
      "provenance": []
    },
    "kernelspec": {
      "name": "python3",
      "display_name": "Python 3"
    },
    "language_info": {
      "name": "python"
    }
  },
  "cells": [
    {
      "cell_type": "markdown",
      "source": [
        "# Ejemplo de uso pytorch\n",
        "\n",
        "Red neuronal que aprende la puerta logica AND\n",
        "\n",
        "\n"
      ],
      "metadata": {
        "id": "PZD7cExF3H3J"
      }
    },
    {
      "cell_type": "code",
      "source": [
        "import torch\n",
        "import torch.nn as nn\n",
        "import torch.optim as optim\n",
        "\n",
        "#Inputs\n",
        "X = torch.tensor([[0,0],[0,1],[1,0],[1,1]],dtype=torch.float32) #Inputs\n",
        "Y = torch.tensor([[0],[1],[1],[0]],dtype=torch.float32) # Outputs\n",
        "\n",
        "class ANDGateNN(nn.Module):\n",
        "  def __init__(self):\n",
        "    super(ANDGateNN,self).__init__()\n",
        "    #ReLU en las capas ocultas y sigmoid en salida\n",
        "    self.layer = nn.Sequential(nn.Linear(2,4),nn.ReLU(),nn.Linear(4,1),nn.Sigmoid())\n",
        "\n",
        "  def forward(self,x):\n",
        "    return self.layer(x)\n",
        "\n",
        "\n",
        "model = ANDGateNN()\n",
        "criterion = nn.BCELoss() # Binary cross entropy. Se puede usar el Mean Square ERror\n",
        "optimizer = optim.SGD(model.parameters(), lr=0.1) #Usa stachastic gradient descent (el clasico) con tasa_aprende=0.1\n",
        "\n",
        "# Training loop\n",
        "epochs = 5000\n",
        "for epoch in range(epochs):\n",
        "    optimizer.zero_grad()\n",
        "    outputs = model(X)\n",
        "    loss = criterion(outputs, Y)\n",
        "    loss.backward()\n",
        "    optimizer.step()\n",
        "\n",
        "    if (epoch + 1) % 2000 == 0:\n",
        "        print(f'Epoch [{epoch+1}/{epochs}], Loss: {loss.item():.4f}')\n",
        "\n",
        "print(\"Predicted: \")\n",
        "print(f\"{.3}\",model.forward(X))\n"
      ],
      "metadata": {
        "colab": {
          "base_uri": "https://localhost:8080/"
        },
        "id": "CXlAONeM4UXE",
        "outputId": "b496b03e-2dcd-4878-a581-a162b8557605"
      },
      "execution_count": 38,
      "outputs": [
        {
          "output_type": "stream",
          "name": "stdout",
          "text": [
            "Epoch [2000/5000], Loss: 50.0000\n",
            "Epoch [4000/5000], Loss: 50.0000\n",
            "Predicted: \n",
            "0.3 tensor([[0.],\n",
            "        [0.],\n",
            "        [0.],\n",
            "        [0.]], grad_fn=<ReluBackward0>)\n"
          ]
        }
      ]
    },
    {
      "cell_type": "markdown",
      "source": [
        "# Kilauea"
      ],
      "metadata": {
        "id": "k_h781nI4Tdc"
      }
    },
    {
      "cell_type": "code",
      "source": [
        "import torch\n",
        "scalar = torch.tensor(7)\n",
        "print(scalar, scalar.ndim, scalar.item())\n",
        "\n",
        "#Vector\n",
        "vector = torch.tensor([1,2])\n",
        "print(vector,vector.ndim,vector.shape)"
      ],
      "metadata": {
        "colab": {
          "base_uri": "https://localhost:8080/"
        },
        "id": "xYeK0ofW3OYv",
        "outputId": "e925b991-06de-48d2-8233-1880d4694d4e"
      },
      "execution_count": 9,
      "outputs": [
        {
          "output_type": "stream",
          "name": "stdout",
          "text": [
            "tensor(7) 0 7\n",
            "tensor([1, 2]) 1 torch.Size([2])\n"
          ]
        }
      ]
    }
  ]
}